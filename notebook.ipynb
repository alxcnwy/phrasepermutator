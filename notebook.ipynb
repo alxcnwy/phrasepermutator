{
 "cells": [
  {
   "cell_type": "markdown",
   "metadata": {},
   "source": [
    "# Permute forward"
   ]
  },
  {
   "cell_type": "code",
   "execution_count": 184,
   "metadata": {
    "ExecuteTime": {
     "end_time": "2020-09-20T14:59:38.528765Z",
     "start_time": "2020-09-20T14:59:38.523582Z"
    }
   },
   "outputs": [],
   "source": [
    "phrase_in = 'A B C D E F G H I J'.split(' ')\n",
    "key = [i for i in '1234567890']"
   ]
  },
  {
   "cell_type": "code",
   "execution_count": 185,
   "metadata": {
    "ExecuteTime": {
     "end_time": "2020-09-20T14:59:38.798161Z",
     "start_time": "2020-09-20T14:59:38.795273Z"
    }
   },
   "outputs": [
    {
     "name": "stdout",
     "output_type": "stream",
     "text": [
      "['A', 'B', 'C', 'D', 'E', 'F', 'G', 'H', 'I', 'J']\n",
      "['0', '8', '3', '9', '4', '9', '1', '9', '1', '7']\n"
     ]
    }
   ],
   "source": [
    "print(phrase_in)\n",
    "print(key)"
   ]
  },
  {
   "cell_type": "code",
   "execution_count": 186,
   "metadata": {
    "ExecuteTime": {
     "end_time": "2020-09-20T14:59:39.642111Z",
     "start_time": "2020-09-20T14:59:39.636627Z"
    }
   },
   "outputs": [
    {
     "data": {
      "text/plain": [
       "{0: '0',\n",
       " 1: '8',\n",
       " 2: '3',\n",
       " 3: '9',\n",
       " 4: '4',\n",
       " 5: '9',\n",
       " 6: '1',\n",
       " 7: '9',\n",
       " 8: '1',\n",
       " 9: '7'}"
      ]
     },
     "execution_count": 186,
     "metadata": {},
     "output_type": "execute_result"
    }
   ],
   "source": [
    "key_dict = dict(zip(list(range(len(key))), key))\n",
    "key_dict"
   ]
  },
  {
   "cell_type": "code",
   "execution_count": 187,
   "metadata": {
    "ExecuteTime": {
     "end_time": "2020-09-20T14:59:39.972440Z",
     "start_time": "2020-09-20T14:59:39.961854Z"
    }
   },
   "outputs": [
    {
     "data": {
      "text/plain": [
       "{0: '0',\n",
       " 6: '1',\n",
       " 8: '1',\n",
       " 2: '3',\n",
       " 4: '4',\n",
       " 9: '7',\n",
       " 1: '8',\n",
       " 3: '9',\n",
       " 5: '9',\n",
       " 7: '9'}"
      ]
     },
     "execution_count": 187,
     "metadata": {},
     "output_type": "execute_result"
    }
   ],
   "source": [
    "sorted_dict = {k: v for k, v in sorted(key_dict.items(), key=lambda item: item[1])}\n",
    "sorted_dict"
   ]
  },
  {
   "cell_type": "code",
   "execution_count": 188,
   "metadata": {
    "ExecuteTime": {
     "end_time": "2020-09-20T14:59:40.295574Z",
     "start_time": "2020-09-20T14:59:40.289489Z"
    }
   },
   "outputs": [
    {
     "data": {
      "text/plain": [
       "['A', 'G', 'I', 'C', 'E', 'J', 'B', 'D', 'F', 'H']"
      ]
     },
     "execution_count": 188,
     "metadata": {},
     "output_type": "execute_result"
    }
   ],
   "source": [
    "phrase_out = [phrase_in[i] for i in sorted_dict.keys()]\n",
    "phrase_out"
   ]
  },
  {
   "cell_type": "markdown",
   "metadata": {},
   "source": [
    "# Permute backward"
   ]
  },
  {
   "cell_type": "code",
   "execution_count": 189,
   "metadata": {
    "ExecuteTime": {
     "end_time": "2020-09-20T14:59:53.319680Z",
     "start_time": "2020-09-20T14:59:53.301143Z"
    }
   },
   "outputs": [],
   "source": [
    "phrase_in = ['A', 'G', 'I', 'C', 'E', 'J', 'B', 'D', 'F', 'H']\n",
    "key = [i for i in '1234567890']\n",
    "key_sorted = sorted(key)"
   ]
  },
  {
   "cell_type": "code",
   "execution_count": 196,
   "metadata": {
    "ExecuteTime": {
     "end_time": "2020-09-20T15:09:54.662493Z",
     "start_time": "2020-09-20T15:09:54.657501Z"
    }
   },
   "outputs": [],
   "source": [
    "correct_permut = ['0', '6', '3', '7', '4', '8', '1', '9', '2', '5']"
   ]
  },
  {
   "cell_type": "code",
   "execution_count": 197,
   "metadata": {
    "ExecuteTime": {
     "end_time": "2020-09-20T15:10:10.774188Z",
     "start_time": "2020-09-20T15:10:10.768611Z"
    }
   },
   "outputs": [
    {
     "name": "stdout",
     "output_type": "stream",
     "text": [
      "['A', 'G', 'I', 'C', 'E', 'J', 'B', 'D', 'F', 'H']\n",
      "['0', '1', '1', '3', '4', '7', '8', '9', '9', '9']\n",
      "\n",
      "['0', '6', '3', '7', '4', '8', '1', '9', '2', '5']\n"
     ]
    }
   ],
   "source": [
    "print(phrase_in)\n",
    "print(key_sorted)\n",
    "print('')\n",
    "print(correct_permut)"
   ]
  },
  {
   "cell_type": "code",
   "execution_count": 200,
   "metadata": {
    "ExecuteTime": {
     "end_time": "2020-09-20T16:17:15.984330Z",
     "start_time": "2020-09-20T16:17:15.979547Z"
    }
   },
   "outputs": [],
   "source": [
    "phrase_out = []\n",
    "\n",
    "done = []\n",
    "for i, d in enumerate(key):\n",
    "    # find occurance of d in key sorted \n",
    "    for j, c in enumerate(key_sorted):\n",
    "        if c == d:\n",
    "            if j not in done:\n",
    "                done.append(j)\n",
    "                phrase_out.append(phrase_in[j])"
   ]
  },
  {
   "cell_type": "code",
   "execution_count": 201,
   "metadata": {
    "ExecuteTime": {
     "end_time": "2020-09-20T16:17:16.310289Z",
     "start_time": "2020-09-20T16:17:16.304755Z"
    }
   },
   "outputs": [
    {
     "data": {
      "text/plain": [
       "['A', 'B', 'C', 'D', 'F', 'H', 'E', 'G', 'I', 'J']"
      ]
     },
     "execution_count": 201,
     "metadata": {},
     "output_type": "execute_result"
    }
   ],
   "source": [
    "phrase_out"
   ]
  },
  {
   "cell_type": "code",
   "execution_count": 204,
   "metadata": {
    "ExecuteTime": {
     "end_time": "2020-09-20T16:21:05.033883Z",
     "start_time": "2020-09-20T16:21:05.025507Z"
    }
   },
   "outputs": [
    {
     "name": "stdout",
     "output_type": "stream",
     "text": [
      "0\n",
      "6\n",
      "3\n",
      "7\n",
      "8\n",
      "9\n",
      "4\n",
      "1\n",
      "2\n",
      "5\n"
     ]
    },
    {
     "data": {
      "text/plain": [
       "['A', 'B', 'C', 'D', 'F', 'H', 'E', 'G', 'I', 'J']"
      ]
     },
     "execution_count": 204,
     "metadata": {},
     "output_type": "execute_result"
    }
   ],
   "source": [
    "phrase_out = []\n",
    "done = []\n",
    "for d in key:\n",
    "    for j, c in enumerate(key_sorted):\n",
    "        if c == d:\n",
    "            if j not in done:\n",
    "                print(j)\n",
    "                done.append(j)\n",
    "                phrase_out.append(phrase_in[j])\n",
    "phrase_out"
   ]
  },
  {
   "cell_type": "code",
   "execution_count": null,
   "metadata": {},
   "outputs": [],
   "source": []
  },
  {
   "cell_type": "code",
   "execution_count": null,
   "metadata": {},
   "outputs": [],
   "source": []
  },
  {
   "cell_type": "code",
   "execution_count": null,
   "metadata": {},
   "outputs": [],
   "source": []
  },
  {
   "cell_type": "code",
   "execution_count": null,
   "metadata": {},
   "outputs": [],
   "source": []
  },
  {
   "cell_type": "code",
   "execution_count": null,
   "metadata": {},
   "outputs": [],
   "source": []
  },
  {
   "cell_type": "code",
   "execution_count": null,
   "metadata": {},
   "outputs": [],
   "source": []
  },
  {
   "cell_type": "code",
   "execution_count": null,
   "metadata": {},
   "outputs": [],
   "source": []
  },
  {
   "cell_type": "code",
   "execution_count": null,
   "metadata": {},
   "outputs": [],
   "source": []
  },
  {
   "cell_type": "code",
   "execution_count": null,
   "metadata": {},
   "outputs": [],
   "source": []
  },
  {
   "cell_type": "code",
   "execution_count": null,
   "metadata": {},
   "outputs": [],
   "source": []
  },
  {
   "cell_type": "code",
   "execution_count": null,
   "metadata": {},
   "outputs": [],
   "source": []
  },
  {
   "cell_type": "code",
   "execution_count": null,
   "metadata": {},
   "outputs": [],
   "source": []
  },
  {
   "cell_type": "code",
   "execution_count": null,
   "metadata": {},
   "outputs": [],
   "source": []
  },
  {
   "cell_type": "code",
   "execution_count": null,
   "metadata": {},
   "outputs": [],
   "source": []
  },
  {
   "cell_type": "code",
   "execution_count": null,
   "metadata": {},
   "outputs": [],
   "source": []
  },
  {
   "cell_type": "code",
   "execution_count": null,
   "metadata": {},
   "outputs": [],
   "source": []
  },
  {
   "cell_type": "code",
   "execution_count": null,
   "metadata": {},
   "outputs": [],
   "source": []
  }
 ],
 "metadata": {
  "kernelspec": {
   "display_name": "Python 3",
   "language": "python",
   "name": "python3"
  },
  "language_info": {
   "codemirror_mode": {
    "name": "ipython",
    "version": 3
   },
   "file_extension": ".py",
   "mimetype": "text/x-python",
   "name": "python",
   "nbconvert_exporter": "python",
   "pygments_lexer": "ipython3",
   "version": "3.7.7"
  },
  "varInspector": {
   "cols": {
    "lenName": 16,
    "lenType": 16,
    "lenVar": 40
   },
   "kernels_config": {
    "python": {
     "delete_cmd_postfix": "",
     "delete_cmd_prefix": "del ",
     "library": "var_list.py",
     "varRefreshCmd": "print(var_dic_list())"
    },
    "r": {
     "delete_cmd_postfix": ") ",
     "delete_cmd_prefix": "rm(",
     "library": "var_list.r",
     "varRefreshCmd": "cat(var_dic_list()) "
    }
   },
   "types_to_exclude": [
    "module",
    "function",
    "builtin_function_or_method",
    "instance",
    "_Feature"
   ],
   "window_display": false
  }
 },
 "nbformat": 4,
 "nbformat_minor": 4
}
